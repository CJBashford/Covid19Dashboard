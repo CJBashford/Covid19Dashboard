{
 "cells": [
  {
   "cell_type": "code",
   "execution_count": 1,
   "metadata": {},
   "outputs": [],
   "source": [
    "import ipywidgets as wdg\n",
    "import pandas as pd\n",
    "import matplotlib.pyplot as plt\n",
    "import json\n",
    "import datetime\n",
    "import time\n",
    "from uk_covid19 import Cov19API"
   ]
  },
  {
   "cell_type": "code",
   "execution_count": 2,
   "metadata": {},
   "outputs": [],
   "source": [
    "%matplotlib inline\n",
    "plt.rcParams['figure.dpi'] = 100"
   ]
  },
  {
   "cell_type": "code",
   "execution_count": 3,
   "metadata": {},
   "outputs": [],
   "source": [
    "cases_and_deaths = {\n",
    "    \"date\": \"date\",\n",
    "    \"dailycases\": \"newCasesByPublishDate\",\n",
    "    \"dailydeaths\": \"newDeathsByDeathDate\"\n",
    "}\n",
    "\n",
    "ventilators_v_admissions = {\n",
    "    \"date\": \"date\",\n",
    "    \"hospitalcases\": \"hospitalCases\",\n",
    "    \"ventilatorbeds\": \"covidOccupiedMVBeds\"\n",
    "}\n",
    "\n",
    "age_distribution = {\n",
    "    \"malecases\": \"maleCases\",\n",
    "    \"femalecases\": \"femaleCases\"\n",
    "}\n",
    "\n",
    "england_only = [\n",
    "    'areaType=nation',\n",
    "    'areaName=England'\n",
    "]"
   ]
  },
  {
   "cell_type": "code",
   "execution_count": 4,
   "metadata": {},
   "outputs": [],
   "source": [
    "with open(\"timeseries.json\", \"rt\") as INFILE:\n",
    "    timeseriesdata = json.load(INFILE)"
   ]
  },
  {
   "cell_type": "code",
   "execution_count": 5,
   "metadata": {},
   "outputs": [],
   "source": [
    "with open(\"ventilator.json\",\"rt\") as INFILE:\n",
    "    ventdata=json.load(INFILE)"
   ]
  },
  {
   "cell_type": "code",
   "execution_count": 6,
   "metadata": {},
   "outputs": [],
   "source": [
    "with open(\"agedistribution.json\",\"rt\") as INFILE:\n",
    "    agedata=json.load(INFILE)"
   ]
  },
  {
   "cell_type": "code",
   "execution_count": 7,
   "metadata": {},
   "outputs": [],
   "source": [
    "def parse_date(datestring):\n",
    "    \"\"\"Convert a date string into a pandas datetime object\"\"\"\n",
    "    return pd.to_datetime(datestring, format=\"%Y-%m-%d\")\n",
    "\n",
    "def min_age(agerange):\n",
    "    agerange=agerange.replace('+','')\n",
    "    start=agerange.split('_')[0]\n",
    "    return int(start)"
   ]
  },
  {
   "cell_type": "code",
   "execution_count": 8,
   "metadata": {},
   "outputs": [],
   "source": [
    "def timeseries_wrangle_data(timeseriesdata):\n",
    "    timeseriesdatalist = timeseriesdata['data']\n",
    "    timeseriesdates=[dictionary['date'] for dictionary in timeseriesdatalist]\n",
    "    timeseriesdates.sort()\n",
    "    startdate = parse_date(timeseriesdates[0])\n",
    "    enddate = parse_date(timeseriesdates[-1])\n",
    "    index = pd.date_range(startdate, enddate, freq='D')\n",
    "    timeseriesdf=pd.DataFrame(index=index, columns=['dailycases','dailydeaths'])\n",
    "    for entry in timeseriesdatalist:\n",
    "        date=parse_date(entry['date'])\n",
    "        for column in ['dailycases','dailydeaths']:\n",
    "            if pd.isna(timeseriesdf.loc[date, column]):\n",
    "                if entry[column]!= None:\n",
    "                    value = float(entry[column])\n",
    "                else:\n",
    "                    value = 0.0\n",
    "                timeseriesdf.loc[date, column]=value\n",
    "    timeseriesdf.fillna(0.0, inplace=True)\n",
    "    timeseriesdf['7daymovingavgcases'] = timeseriesdf['dailycases'].rolling(window=7).mean()\n",
    "    timeseriesdf['7daymovingavgdeaths'] = timeseriesdf['dailydeaths'].rolling(window=7).mean()\n",
    "    \n",
    "    return timeseriesdf"
   ]
  },
  {
   "cell_type": "code",
   "execution_count": 9,
   "metadata": {},
   "outputs": [],
   "source": [
    "def vent_wrangle_data(ventdata):\n",
    "    ventdatalist = ventdata['data']\n",
    "    ventdates = [dictionary['date'] for dictionary in ventdatalist]\n",
    "    ventdates.sort()\n",
    "    startdate = parse_date(ventdates[0])\n",
    "    enddate = parse_date(ventdates[-1])\n",
    "    index = pd.date_range(startdate, enddate, freq='D')\n",
    "    ventdf = pd.DataFrame(index=index, columns=['hospitalcases','ventilatorbeds'])\n",
    "    for entry in ventdatalist:\n",
    "        date = parse_date(entry['date'])\n",
    "        for column in ['hospitalcases','ventilatorbeds']:\n",
    "            if pd.isna(ventdf.loc[date, column]):\n",
    "                if entry[column]!= None:\n",
    "                    value = float(entry[column])\n",
    "                else:\n",
    "                    value = 0.0\n",
    "                ventdf.loc[date, column] = value\n",
    "    ventdf.fillna(0.0, inplace=True)\n",
    "    ventdf['noventilator']=(ventdf['hospitalcases'] - ventdf['ventilatorbeds'])\n",
    "    ventdf.fillna(0.0, inplace=True)\n",
    "    return ventdf"
   ]
  },
  {
   "cell_type": "code",
   "execution_count": 10,
   "metadata": {},
   "outputs": [],
   "source": [
    "def age_wrangle_data(agedata):\n",
    "    datadic=agedata['data'][0]\n",
    "    males=datadic['malecases']\n",
    "    females=datadic['femalecases']\n",
    "    ageranges = [x['age'] for x in males]\n",
    "    ageranges.sort(key=min_age)\n",
    "    age_df = pd.DataFrame(index = ageranges, columns=['males', 'females'])\n",
    "    for entry in males:\n",
    "        ageband=entry['age']\n",
    "        age_df.loc[ageband, 'males']=entry['value']\n",
    "    for entry in females:\n",
    "        ageband=entry['age']\n",
    "        age_df.loc[ageband, 'females']=entry['value']\n",
    "    \n",
    "    return age_df"
   ]
  },
  {
   "cell_type": "code",
   "execution_count": 11,
   "metadata": {},
   "outputs": [],
   "source": [
    "def access_api_timeseries():\n",
    "    global timeseriesdata\n",
    "    timeseriesdata = Cov19API(filters=england_only, structure=cases_and_deaths).get_json()\n",
    "\n",
    "def access_api_testing():\n",
    "    global testingdata\n",
    "    testingdata = Cov19API(filters=england_only, structure=cases_and_deaths).get_json()\n",
    "    \n",
    "def access_api_vent():\n",
    "    global ventdata\n",
    "    ventdata = Cov19API(filters=england_only, structure=ventilators_v_admissions).get_json()\n",
    "\n",
    "def access_api_age():\n",
    "    global agedata\n",
    "    agedata = Cov19API(filters=england_only, structure=age_distribution).get_json()"
   ]
  },
  {
   "cell_type": "code",
   "execution_count": 12,
   "metadata": {},
   "outputs": [],
   "source": [
    "timeseriesapibutton = wdg.Button(\n",
    "    description = 'Refresh Data',\n",
    "    disabled=False,\n",
    "    button_style='info',\n",
    "    tooltip='Click to download Public Health England data',\n",
    "    icon='refresh'\n",
    ")\n",
    "\n",
    "ventilatorapibutton = wdg.Button(\n",
    "    description = 'Refresh Data',\n",
    "    disabled=False,\n",
    "    button_style='info',\n",
    "    tooltip='Click to download Public Health England data',\n",
    "    icon='refresh'\n",
    ")\n",
    "\n",
    "ageapibutton = wdg.Button(\n",
    "    description = 'Refresh Data',\n",
    "    disabled=False,\n",
    "    button_style='info',\n",
    "    tooltip='Click to download Public Health England data',\n",
    "    icon='refresh'\n",
    ")"
   ]
  },
  {
   "cell_type": "code",
   "execution_count": 13,
   "metadata": {},
   "outputs": [],
   "source": [
    "timeseriescols=wdg.SelectMultiple(\n",
    "    options=['dailycases','dailydeaths','7daymovingavgcases', '7daymovingavgdeaths'],\n",
    "    value=['dailycases','dailydeaths','7daymovingavgcases', '7daymovingavgdeaths'],\n",
    "    rows=4,\n",
    "    description='Daily View',\n",
    "    disabled=False\n",
    ")\n",
    "\n",
    "timeseriesscale=wdg.RadioButtons(\n",
    "    options=['linear', 'log'],\n",
    "    description='Scale:',\n",
    "    disabled=False\n",
    ")\n",
    "\n",
    "def timeseries_graph(graphcolumns, graphscale):\n",
    "    graphcolumns = graphcolumns\n",
    "    graphscale = graphscale\n",
    "    if graphscale=='linear':\n",
    "        logscale=False\n",
    "    else:\n",
    "        logscale=True\n",
    "    ncols=len(graphcolumns)\n",
    "    if ncols>0 and logscale==False:\n",
    "        timeseriesdf.plot(title='Daily Cases Vs Deaths',\n",
    "                         y=list(graphcolumns),\n",
    "                         xlabel='Date',\n",
    "                         ylabel='Count',\n",
    "                         color={\"dailycases\": \"orange\", \"dailydeaths\": \"red\", \"7daymovingavgcases\": \"green\", \"7daymovingavgdeaths\": \"blue\"}).legend(loc='upper center')\n",
    "    elif ncols>0 and logscale==True:\n",
    "            timeseriesdf.plot(\n",
    "                         logy=True,\n",
    "                         title='Daily Cases Vs Deaths',\n",
    "                         y=list(graphcolumns),\n",
    "                         xlabel='Date',\n",
    "                         ylabel='Count',\n",
    "                         color={\"dailycases\": \"orange\", \"dailydeaths\": \"red\", \"7daymovingavgcases\": \"green\", \"7daymovingavgdeaths\": \"blue\"}).legend(loc='upper center')\n",
    "    else:\n",
    "        print(\"Click to select data for the chart\")\n",
    "        print(\"Ctrl + Click (Windows) / Command + Click (MacOS) to select multiple categories\")"
   ]
  },
  {
   "cell_type": "code",
   "execution_count": 14,
   "metadata": {},
   "outputs": [],
   "source": [
    "ventcols=wdg.SelectMultiple(\n",
    "    options=['noventilator','ventilatorbeds'],\n",
    "    value=['noventilator','ventilatorbeds'],\n",
    "    rows=2,\n",
    "    description='Hospitals:',\n",
    "    disabled=False,\n",
    ")\n",
    "\n",
    "def ventilator_graph(graphcolumns):\n",
    "    ncols=len(graphcolumns)\n",
    "    if ncols>0:\n",
    "        ventdf.plot(kind='area',\n",
    "                   y=list(graphcolumns),\n",
    "                   color={\"noventilator\": \"yellow\", \"ventilatorbeds\": \"red\"},\n",
    "                   title=\"Proportion of hospital cases on ventilator\",\n",
    "                   xlabel='Date',\n",
    "                   ylabel=\"Cases\"\n",
    "                   )\n",
    "    else:\n",
    "        print(\"Click to select data for the chart\")\n",
    "        print(\"Ctrl + Click (Windows) / Command + Click (MacOS) to select multiple categories\")"
   ]
  },
  {
   "cell_type": "code",
   "execution_count": 15,
   "metadata": {},
   "outputs": [],
   "source": [
    "agecols=wdg.SelectMultiple(\n",
    "    options=['males', 'females'],\n",
    "    value=['males', 'females'],\n",
    "    rows=2,\n",
    "    description='Sex:',\n",
    "    disabled=False\n",
    ")\n",
    "\n",
    "def age_graph(graphcolumns):\n",
    "    ncols=len(graphcolumns)\n",
    "    if ncols>0:\n",
    "        agedataframe.plot(kind='bar',\n",
    "                         y=list(graphcolumns),\n",
    "                         stacked=True,\n",
    "                         color={\"males\": \"red\", \"females\": \"pink\"},\n",
    "                          title=\"Age and Sex Case Distribution\",\n",
    "                          xlabel=\"Age\",\n",
    "                          ylabel=\"Cases\"\n",
    "                         )\n",
    "    else:\n",
    "        print(\"Click to select data for the chart\")\n",
    "        print(\"Ctrl + Click (Windows) / Command + Click (MacOS) to select multiple categories\")"
   ]
  },
  {
   "cell_type": "code",
   "execution_count": 16,
   "metadata": {},
   "outputs": [],
   "source": [
    "def refresh_ts_graph():\n",
    "    current=timeseriesscale.value\n",
    "    if current==timeseriesscale.options[0]:\n",
    "        other=timeseriesscale.options[1]\n",
    "    else:\n",
    "        other=timeseriesscale.options[0]\n",
    "    timeseriesscale.value=other\n",
    "    timeseriesscale.value=current"
   ]
  },
  {
   "cell_type": "code",
   "execution_count": 17,
   "metadata": {},
   "outputs": [],
   "source": [
    "def timeseries_callback(timeseriesapibutton):\n",
    "    try:\n",
    "        access_api_timeseries()\n",
    "        global timeseriesdf\n",
    "        timeseriesdf = timeseries_wrangle_data(timeseriesdata)\n",
    "        timeseriesapibutton.icon='check'\n",
    "        timeseriesapibutton.description='Data Refreshed'\n",
    "        timeseriesapibutton.button_style='success'\n",
    "        refresh_ts_graph()\n",
    "        timeseriesapibutton.disabled=True\n",
    "        time.sleep(5)\n",
    "        timeseriesapibutton.description='Refresh Data'\n",
    "        timeseriesapibutton.icon='refresh'\n",
    "        timeseriesapibutton.button_style='info'\n",
    "        timeseriesapibutton.disabled=False\n",
    "    except:\n",
    "        timeseriesapibutton.description='Error Occurred'\n",
    "        timeseriesapibutton.button_style='warning'\n",
    "        timeseriesapibutton.icon='fa-exclamation-triangle'\n",
    "        timeseriesapibutton.disabled=True\n",
    "        time.sleep(5)\n",
    "        timeseriesapibutton.description='Refresh Data'\n",
    "        timeseriesapibutton.icon='refresh'\n",
    "        timeseriesapibutton.button_style='info'\n",
    "        timeseriesapibutton.disabled=False\n",
    "\n",
    "timeseriesapibutton.on_click(timeseries_callback)"
   ]
  },
  {
   "cell_type": "code",
   "execution_count": 18,
   "metadata": {},
   "outputs": [],
   "source": [
    "def vent_callback(ventilatorapibutton):\n",
    "    try:\n",
    "        access_api_vent()\n",
    "        global ventdf\n",
    "        ventdf = vent_wrangle_data(ventdata)\n",
    "        ventilatorapibutton.icon=\"check\"\n",
    "        ventilatorapibutton.description=\"Data Refreshed\"\n",
    "        ventilatorapibutton.button_style=\"success\"\n",
    "        ventilatorapibutton.disabled=True\n",
    "        time.sleep(5)\n",
    "        ventilatorapibutton.description='Refresh Data'\n",
    "        ventilatorapibutton.icon='refresh'\n",
    "        ventilatorapibutton.button_style='info'\n",
    "        ventilatorapibutton.disabled=False\n",
    "    except:\n",
    "        ventilatorapibutton.description='Error Occurred'\n",
    "        ventilatorapibutton.button_style='warning'\n",
    "        ventilatorapibutton.icon='fa-exclamation-triangle'\n",
    "        ventilatorapibutton.disabled=True\n",
    "        time.sleep(5)\n",
    "        ventilatorapibutton.description='Refresh Data'\n",
    "        ventilatorapibutton.icon='refresh'\n",
    "        ventilatorapibutton.button_style='info'\n",
    "        ventilatorapibutton.disabled=False\n",
    "        \n",
    "\n",
    "ventilatorapibutton.on_click(vent_callback)"
   ]
  },
  {
   "cell_type": "code",
   "execution_count": 19,
   "metadata": {},
   "outputs": [],
   "source": [
    "def age_callback(ageapibutton):\n",
    "    try:\n",
    "        access_api_age()\n",
    "        global age_df\n",
    "        age_df = age_wrangle_data(agedata)\n",
    "        ageapibutton.icon=\"check\"\n",
    "        ageapibutton.description=\"Data Refreshed\"\n",
    "        ageapibutton.button_style=\"success\"\n",
    "        ageapibutton.disabled=True\n",
    "        time.sleep(5)\n",
    "        ageapibutton.description='Refresh Data'\n",
    "        ageapibutton.icon='refresh'\n",
    "        ageapibutton.button_style='info'\n",
    "        ageapibutton.disabled=False\n",
    "    except:\n",
    "        ageapibutton.description='Error Occurred'\n",
    "        ageapibutton.button_style='warning'\n",
    "        ageapibutton.icon='fa-exclamation-triangle'\n",
    "        ageapibutton.disabled=True\n",
    "        time.sleep(5)\n",
    "        ageapibutton.description='Refresh Data'\n",
    "        ageapibutton.icon='refresh'\n",
    "        ageapibutton.button_style='info'\n",
    "        ageapibutton.disabled=False\n",
    "        \n",
    "ageapibutton.on_click(age_callback)"
   ]
  },
  {
   "cell_type": "code",
   "execution_count": 20,
   "metadata": {},
   "outputs": [],
   "source": [
    "timeseriesdf = timeseries_wrangle_data(timeseriesdata)"
   ]
  },
  {
   "cell_type": "markdown",
   "metadata": {},
   "source": [
    "# Covid-19 Dashboard\n",
    "The following tiles use data from Public Health England to display key information on the Covid-19 pandemic in England."
   ]
  },
  {
   "cell_type": "markdown",
   "metadata": {},
   "source": [
    "## Daily Cases Vs Deaths\n",
    "The below chart tracks the number of daily cases vs the number of daily deaths (defined as a death within 28 days of a positive covid-19 test) over time. The 7 day moving average of cases and deaths is also shown."
   ]
  },
  {
   "cell_type": "code",
   "execution_count": 21,
   "metadata": {},
   "outputs": [
    {
     "data": {
      "application/vnd.jupyter.widget-view+json": {
       "model_id": "df37f3f774ba4385924b9df2db0fb653",
       "version_major": 2,
       "version_minor": 0
      },
      "text/plain": [
       "HBox(children=(Output(), VBox(children=(SelectMultiple(description='Daily View', index=(0, 1, 2, 3), options=(…"
      ]
     },
     "metadata": {},
     "output_type": "display_data"
    }
   ],
   "source": [
    "timeseriesoutput = wdg.interactive_output(timeseries_graph, {'graphcolumns': timeseriescols, 'graphscale': timeseriesscale})\n",
    "\n",
    "controls = wdg.VBox([timeseriescols, timeseriesscale, timeseriesapibutton])\n",
    "tsfinaldisplay = wdg.HBox([timeseriesoutput, controls])\n",
    "display(tsfinaldisplay)"
   ]
  },
  {
   "cell_type": "code",
   "execution_count": 22,
   "metadata": {},
   "outputs": [],
   "source": [
    "ventdf = vent_wrangle_data(ventdata)"
   ]
  },
  {
   "cell_type": "markdown",
   "metadata": {},
   "source": [
    "## Mechanical Ventilator Cases as Proportion of all Hospital Admissions\n",
    "The below chart tracks the number of patients in hospitals in England on a given day, where the admission is due to Covid-19. The number of patients on ventilators as a proportion of all hospital admissions can be observed. Patients requiring a mechanical ventilator are shown in red, with all other hospitalised Covid-19 patients shown in yellow."
   ]
  },
  {
   "cell_type": "code",
   "execution_count": 23,
   "metadata": {},
   "outputs": [
    {
     "data": {
      "application/vnd.jupyter.widget-view+json": {
       "model_id": "ecae08daac434994ae6469f986f60281",
       "version_major": 2,
       "version_minor": 0
      },
      "text/plain": [
       "HBox(children=(Output(), VBox(children=(SelectMultiple(description='Hospitals:', index=(0, 1), options=('noven…"
      ]
     },
     "metadata": {},
     "output_type": "display_data"
    }
   ],
   "source": [
    "ventoutput=wdg.interactive_output(ventilator_graph, {'graphcolumns': ventcols})\n",
    "\n",
    "controls = wdg.VBox([ventcols, ventilatorapibutton])\n",
    "finaldisplay = wdg.HBox([ventoutput, controls])\n",
    "display(finaldisplay)"
   ]
  },
  {
   "cell_type": "code",
   "execution_count": 24,
   "metadata": {},
   "outputs": [],
   "source": [
    "agedataframe = age_wrangle_data(agedata)"
   ]
  },
  {
   "cell_type": "markdown",
   "metadata": {},
   "source": [
    "## Total Cases in England by Age and Sex Distribution\n",
    "The below chart shows the distribution of confirmed Covid-19 positive test results across the population of England, by both age band and by sex. "
   ]
  },
  {
   "cell_type": "code",
   "execution_count": 25,
   "metadata": {},
   "outputs": [
    {
     "data": {
      "application/vnd.jupyter.widget-view+json": {
       "model_id": "f56f915891c7421186da554570a77004",
       "version_major": 2,
       "version_minor": 0
      },
      "text/plain": [
       "HBox(children=(Output(), VBox(children=(SelectMultiple(description='Sex:', index=(0, 1), options=('males', 'fe…"
      ]
     },
     "metadata": {},
     "output_type": "display_data"
    }
   ],
   "source": [
    "ageoutput=wdg.interactive_output(age_graph, {'graphcolumns': agecols})\n",
    "\n",
    "controls = wdg.VBox([agecols, ageapibutton])\n",
    "finaldisplay = wdg.HBox([ageoutput, controls])\n",
    "display(finaldisplay)"
   ]
  }
 ],
 "metadata": {
  "kernelspec": {
   "display_name": "Python 3",
   "language": "python",
   "name": "python3"
  },
  "language_info": {
   "codemirror_mode": {
    "name": "ipython",
    "version": 3
   },
   "file_extension": ".py",
   "mimetype": "text/x-python",
   "name": "python",
   "nbconvert_exporter": "python",
   "pygments_lexer": "ipython3",
   "version": "3.8.5"
  }
 },
 "nbformat": 4,
 "nbformat_minor": 4
}
